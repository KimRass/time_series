{
 "cells": [
  {
   "cell_type": "markdown",
   "metadata": {
    "colab_type": "text",
    "id": "view-in-github"
   },
   "source": [
    "<a href=\"https://colab.research.google.com/github/KimRass/Programming/blob/master/Data%20Science/Machine%20Learning/Time%20Series/Ethereum%20%26%20DeepAR.ipynb\" target=\"_parent\"><img src=\"https://colab.research.google.com/assets/colab-badge.svg\" alt=\"Open In Colab\"/></a>"
   ]
  },
  {
   "cell_type": "markdown",
   "metadata": {
    "id": "hz3Ibl12W6gf",
    "toc": true
   },
   "source": [
    "<h1>Table of Contents<span class=\"tocSkip\"></span></h1>\n",
    "<div class=\"toc\"><ul class=\"toc-item\"><li><span><a href=\"#Modeling-&amp;-Training\" data-toc-modified-id=\"Modeling-&amp;-Training-1\"><span class=\"toc-item-num\">1&nbsp;&nbsp;</span>Modeling &amp; Training</a></span></li><li><span><a href=\"#Inference\" data-toc-modified-id=\"Inference-2\"><span class=\"toc-item-num\">2&nbsp;&nbsp;</span>Inference</a></span></li></ul></div>"
   ]
  },
  {
   "cell_type": "code",
   "execution_count": 1,
   "metadata": {
    "ExecuteTime": {
     "end_time": "2022-02-06T13:17:17.385046Z",
     "start_time": "2022-02-06T13:17:17.369087Z"
    },
    "colab": {
     "base_uri": "https://localhost:8080/"
    },
    "id": "T4VEc-1Ei3za",
    "outputId": "91b94a00-7dcd-45f5-d902-db1e2c8b0fd1"
   },
   "outputs": [
    {
     "name": "stdout",
     "output_type": "stream",
     "text": [
      "Drive already mounted at /content/drive; to attempt to forcibly remount, call drive.mount(\"/content/drive\", force_remount=True).\n"
     ]
    }
   ],
   "source": [
    "# Data Science/Machine Learning/Time Series/Ethereum & DeepAR.ipynb\n",
    "\n",
    "from google.colab import drive\n",
    "import os\n",
    "drive.mount(\"/content/drive\")\n",
    "os.chdir(\"/content\")\n",
    "\n",
    "import numpy as np\n",
    "import tensorflow_probability as tfp\n",
    "import pandas as pd\n",
    "from datetime import datetime, timedelta\n",
    "from numpy import array\n",
    "import matplotlib.pyplot as plt\n",
    "from sklearn.metrics import mean_squared_error\n",
    "from sklearn.feature_extraction.text import CountVectorizer, TfidfVectorizer\n",
    "from sklearn.model_selection import train_test_split, KFold, GroupKFold, LeaveOneOut, LeaveOneGroupOut\n",
    "from sklearn.preprocessing import OneHotEncoder, LabelEncoder, StandardScaler, MinMaxScaler, RobustScaler, Normalizer\n",
    "from sklearn.decomposition import PCA\n",
    "from sklearn.tree import DecisionTreeRegressor\n",
    "from sklearn.ensemble import RandomForestRegressor, GradientBoostingRegressor, AdaBoostRegressor\n",
    "import tensorflow as tf\n",
    "from tensorflow.keras import Input, Model, Sequential\n",
    "from tensorflow.keras.models import load_model\n",
    "from tensorflow.keras.layers import Layer, Dense, Flatten, Dropout, Concatenate, Add, Dot, Multiply, Reshape, Activation, BatchNormalization, SimpleRNNCell, RNN, SimpleRNN, LSTM, Embedding, Bidirectional, TimeDistributed, Conv1D, Conv2D, MaxPool1D, MaxPool2D, GlobalMaxPool1D, GlobalMaxPool2D, AveragePooling1D, AveragePooling2D, GlobalAveragePooling1D, GlobalAveragePooling2D, ZeroPadding2D, RepeatVector\n",
    "from tensorflow.keras.layers.experimental.preprocessing import Rescaling\n",
    "from tensorflow.keras.utils import to_categorical\n",
    "from tensorflow.keras.preprocessing import image_dataset_from_directory\n",
    "from tensorflow.keras.preprocessing.sequence import pad_sequences\n",
    "from tensorflow.keras.preprocessing.text import Tokenizer\n",
    "from tensorflow.keras.preprocessing.image import load_img, img_to_array, ImageDataGenerator\n",
    "from tensorflow.keras.optimizers import SGD, Adagrad, Adam\n",
    "from tensorflow.keras.metrics import MeanSquaredError, RootMeanSquaredError, MeanAbsoluteError, MeanAbsolutePercentageError, BinaryCrossentropy, CategoricalCrossentropy, SparseCategoricalCrossentropy, CosineSimilarity\n",
    "from tensorflow.keras.callbacks import EarlyStopping, ModelCheckpoint\n",
    "from tensorflow.keras.activations import linear, sigmoid, relu\n",
    "from tensorflow.keras.initializers import RandomNormal, glorot_uniform, he_uniform, Constant\n",
    "\n",
    "plt.style.use(\"dark_background\")"
   ]
  },
  {
   "cell_type": "code",
   "execution_count": 2,
   "metadata": {
    "ExecuteTime": {
     "end_time": "2022-02-06T12:52:10.956103Z",
     "start_time": "2022-02-06T12:52:10.912091Z"
    },
    "id": "mro7BoppojRj"
   },
   "outputs": [],
   "source": [
    "os.chdir(\"/content/drive/MyDrive/TS\")\n",
    "data = pd.read_csv(\"./Datasets/Ethereum/ETH_USD.csv\", skiprows=1, parse_dates=[\"Date\"], index_col=\"Date\")\n",
    "\n",
    "data = data.drop([\"Symbol\",\"Unix Timestamp\"] , axis=1)\n",
    "data = data.sort_index()"
   ]
  },
  {
   "cell_type": "code",
   "execution_count": 3,
   "metadata": {
    "ExecuteTime": {
     "end_time": "2022-02-06T13:17:33.018232Z",
     "start_time": "2022-02-06T13:17:32.818019Z"
    },
    "colab": {
     "base_uri": "https://localhost:8080/",
     "height": 279
    },
    "id": "Box6EV_YW6gk",
    "outputId": "a9e56077-a0b3-4d6b-88a9-cbe272ce4e23"
   },
   "outputs": [
    {
     "data": {
      "image/png": "[encoded data removed]",
      "text/plain": [
       "<Figure size 432x288 with 1 Axes>"
      ]
     },
     "metadata": {
      "needs_background": "dark"
     },
     "output_type": "display_data"
    }
   ],
   "source": [
    "test_size = 360\n",
    "cutoff = data.index.max() - timedelta(days=test_size)\n",
    "data_tr, data_te = train_test_split(data[\"Close\"], test_size=test_size, shuffle=False)\n",
    "\n",
    "data[\"Close\"].plot.line();\n",
    "plt.axvline(x=cutoff, c=\"red\", ls=\"--\", label=\"forecast boundary\");\n",
    "plt.legend();"
   ]
  },
  {
   "cell_type": "code",
   "execution_count": 4,
   "metadata": {
    "ExecuteTime": {
     "end_time": "2022-02-06T12:52:11.225090Z",
     "start_time": "2022-02-06T12:52:11.213092Z"
    },
    "id": "UzELLYWFW6gm"
   },
   "outputs": [],
   "source": [
    "# Feature Scaling\n",
    "mean_tr = data_tr.mean()\n",
    "std_tr = data_tr.std()\n",
    "tr_sc = (data_tr - mean_tr)/std_tr\n",
    "\n",
    "mean_te = data_te.mean()\n",
    "std_te = data_te.std()\n",
    "te_sc = (data_te - mean_te)/std_te"
   ]
  },
  {
   "cell_type": "code",
   "execution_count": 5,
   "metadata": {
    "ExecuteTime": {
     "end_time": "2022-02-06T12:52:11.480267Z",
     "start_time": "2022-02-06T12:52:11.228095Z"
    },
    "id": "JGhbn-CwW6gm"
   },
   "outputs": [],
   "source": [
    "def blocked_cv(data, window_size, h):\n",
    "    X = list()\n",
    "    y = list()\n",
    "    for i in range(len(data) - window_size - h + 1):\n",
    "        X.append(data[i:i + window_size])\n",
    "        y.append(data[i + window_size:i + window_size + h])\n",
    "    return np.array(X), np.array(y)\n",
    "\n",
    "window_size = 30\n",
    "h = 1\n",
    "tr_X, tr_y = blocked_cv(tr_sc, window_size, h)\n",
    "tr_X = tr_X[:, :, None]\n",
    "tr_y = tr_y[:, :, None]\n",
    "\n",
    "te_X, te_y = blocked_cv(te_sc, window_size, h)\n",
    "te_X = te_X[:, :, None]"
   ]
  },
  {
   "cell_type": "markdown",
   "metadata": {
    "id": "3F6pIwVGW6gm"
   },
   "source": [
    "# Modeling & Training"
   ]
  },
  {
   "cell_type": "code",
   "execution_count": null,
   "metadata": {
    "ExecuteTime": {
     "start_time": "2022-02-06T12:47:43.471Z"
    },
    "id": "zcN0VUAvjAai"
   },
   "outputs": [],
   "source": [
    "def normal_log_pdf(mu, sigma, y):\n",
    "    tfd = tfp.distributions\n",
    "    dist = tfd.Normal(loc=mu, scale=sigma)\n",
    "    log_prob = dist.log_prob(y)\n",
    "    return -tf.reduce_sum(log_prob)\n",
    "\n",
    "lstm_units = 1024\n",
    "epochs = 10000\n",
    "optimizer = Adam()\n",
    "metrics = RootMeanSquaredError()\n",
    "for epoch in range(1, epochs + 1):\n",
    "    with tf.GradientTape() as tape:\n",
    "        inputs = Input(shape=(window_size, 1))\n",
    "\n",
    "        z = LSTM(units=lstm_units, return_sequences=True)(inputs)\n",
    "        z = LSTM(units=lstm_units, return_sequences=True)(z)\n",
    "        z = LSTM(units=lstm_units, return_sequences=True)(z)\n",
    "        z = LSTM(units=lstm_units, return_sequences=True)(z)\n",
    "\n",
    "        outputs = [Dense(units=1)(z), Dense(units=1, activation=\"softplus\")(z)]\n",
    "\n",
    "        model = Model(inputs=inputs, outputs=outputs)\n",
    "        \n",
    "        mu, sigma = model(tr_X)\n",
    "        loss = normal_log_pdf(mu, sigma, tr_y)\n",
    "    grads = tape.gradient(loss, model.trainable_variables)\n",
    "    optimizer.apply_gradients(zip(grads, model.trainable_variables))\n",
    "    metrics(tr_y, mu)\n",
    "    \n",
    "    print(f\"Epoch: {epoch:5d}, RMSE: {metrics.result().numpy():6.4f}\")\n",
    "    metrics.reset_states()"
   ]
  },
  {
   "cell_type": "markdown",
   "metadata": {
    "id": "LV52KIQ7W6go"
   },
   "source": [
    "# Inference"
   ]
  },
  {
   "cell_type": "code",
   "execution_count": null,
   "metadata": {
    "ExecuteTime": {
     "end_time": "2022-02-06T12:53:38.387989Z",
     "start_time": "2022-02-06T12:53:30.106197Z"
    },
    "id": "CqSJQuHBW6go"
   },
   "outputs": [],
   "source": [
    "lstm_units = 1024\n",
    "inputs = Input(shape=(window_size, 1))\n",
    "\n",
    "z = LSTM(units=lstm_units, return_sequences=True)(inputs)\n",
    "z = LSTM(units=lstm_units, return_sequences=True)(z)\n",
    "z = LSTM(units=lstm_units, return_sequences=True)(z)\n",
    "z = LSTM(units=lstm_units, return_sequences=True)(z)\n",
    "\n",
    "outputs = [Dense(units=1)(z), Dense(units=1, activation=\"softplus\")(z)]\n",
    "\n",
    "model = Model(inputs=inputs, outputs=outputs)"
   ]
  },
  {
   "cell_type": "code",
   "execution_count": null,
   "metadata": {
    "ExecuteTime": {
     "end_time": "2022-02-06T12:57:01.862294Z",
     "start_time": "2022-02-06T12:56:53.779627Z"
    },
    "id": "FC9GQWWQkKId",
    "outputId": "115fb64c-bf45-4363-fde7-2a3bb539b4c9"
   },
   "outputs": [
    {
     "name": "stdout",
     "output_type": "stream",
     "text": [
      "11/11 [==============================] - 8s 716ms/step\n"
     ]
    }
   ],
   "source": [
    "preds = model.predict(te_X)\n",
    "\n",
    "meds = list()\n",
    "lbs = list()\n",
    "ubs = list()\n",
    "for mu in preds[0]:\n",
    "    meds.append((np.quantile(mu, 0.5) + mean_te) * std_te)\n",
    "    lbs.append((np.quantile(mu, 0.05) + mean_te) * std_te)\n",
    "    ubs.append((np.quantile(mu, 0.95) + mean_te) * std_te)"
   ]
  },
  {
   "cell_type": "code",
   "execution_count": null,
   "metadata": {
    "ExecuteTime": {
     "end_time": "2022-02-06T13:20:31.401833Z",
     "start_time": "2022-02-06T13:20:31.159297Z"
    },
    "colab": {
     "base_uri": "https://localhost:8080/",
     "height": 406
    },
    "id": "Q9DZD8xzWMUi",
    "outputId": "77c116e3-34ab-49b1-a2d7-58311ed616cb"
   },
   "outputs": [
    {
     "data": {
      "image/png": "[encoded data removed]",
      "text/plain": [
       "<Figure size 864x432 with 1 Axes>"
      ]
     },
     "metadata": {},
     "output_type": "display_data"
    }
   ],
   "source": [
    "fig = plt.figure(figsize = (12, 6))\n",
    "\n",
    "data[\"Close\"].plot.line()\n",
    "plt.axvline(x=cutoff, c=\"red\", ls=\"--\", label=\"forecast boundary\");\n",
    "plt.fill_between(x=data_te[30:].index, y1=lbs, y2=ubs, color=\"b\", alpha=0.1, label=\"95% Confidence Interval\")\n",
    "plt.plot(data_te[30:].index, meds, label=\"Prediction\");\n",
    "plt.legend(loc=\"upper left\");\n",
    "# plt.suptitle(f\"ARIMA {optimal[0][0]} Prediction Result (r2 score: {r2}\")"
   ]
  },
  {
   "cell_type": "code",
   "execution_count": null,
   "metadata": {
    "colab": {
     "base_uri": "https://localhost:8080/"
    },
    "id": "0zQjxQjwXtIS",
    "outputId": "bc963ffd-e890-4b58-c786-881a59dd5071"
   },
   "outputs": [
    {
     "name": "stdout",
     "output_type": "stream",
     "text": [
      "Sat Aug  7 03:51:48 2021       \n",
      "+-----------------------------------------------------------------------------+\n",
      "| NVIDIA-SMI 470.42.01    Driver Version: 460.32.03    CUDA Version: 11.2     |\n",
      "|-------------------------------+----------------------+----------------------+\n",
      "| GPU  Name        Persistence-M| Bus-Id        Disp.A | Volatile Uncorr. ECC |\n",
      "| Fan  Temp  Perf  Pwr:Usage/Cap|         Memory-Usage | GPU-Util  Compute M. |\n",
      "|                               |                      |               MIG M. |\n",
      "|===============================+======================+======================|\n",
      "|   0  Tesla T4            Off  | 00000000:00:04.0 Off |                    0 |\n",
      "| N/A   61C    P8    11W /  70W |      0MiB / 15109MiB |      0%      Default |\n",
      "|                               |                      |                  N/A |\n",
      "+-------------------------------+----------------------+----------------------+\n",
      "                                                                               \n",
      "+-----------------------------------------------------------------------------+\n",
      "| Processes:                                                                  |\n",
      "|  GPU   GI   CI        PID   Type   Process name                  GPU Memory |\n",
      "|        ID   ID                                                   Usage      |\n",
      "|=============================================================================|\n",
      "|  No running processes found                                                 |\n",
      "+-----------------------------------------------------------------------------+\n"
     ]
    }
   ],
   "source": [
    "!nvidia-smi"
   ]
  }
 ],
 "metadata": {
  "colab": {
   "collapsed_sections": [],
   "include_colab_link": true,
   "name": "Ethereum & DeepAR.ipynb",
   "provenance": []
  },
  "hide_input": false,
  "kernelspec": {
   "display_name": "Python 3",
   "language": "python",
   "name": "python3"
  },
  "language_info": {
   "codemirror_mode": {
    "name": "ipython",
    "version": 3
   },
   "file_extension": ".py",
   "mimetype": "text/x-python",
   "name": "python",
   "nbconvert_exporter": "python",
   "pygments_lexer": "ipython3",
   "version": "3.8.5"
  },
  "toc": {
   "base_numbering": 1,
   "nav_menu": {},
   "number_sections": true,
   "sideBar": true,
   "skip_h1_title": false,
   "title_cell": "Table of Contents",
   "title_sidebar": "Contents",
   "toc_cell": true,
   "toc_position": {},
   "toc_section_display": true,
   "toc_window_display": false
  },
  "varInspector": {
   "cols": {
    "lenName": 16,
    "lenType": 16,
    "lenVar": 40
   },
   "kernels_config": {
    "python": {
     "delete_cmd_postfix": "",
     "delete_cmd_prefix": "del ",
     "library": "var_list.py",
     "varRefreshCmd": "print(var_dic_list())"
    },
    "r": {
     "delete_cmd_postfix": ") ",
     "delete_cmd_prefix": "rm(",
     "library": "var_list.r",
     "varRefreshCmd": "cat(var_dic_list()) "
    }
   },
   "types_to_exclude": [
    "module",
    "function",
    "builtin_function_or_method",
    "instance",
    "_Feature"
   ],
   "window_display": false
  }
 },
 "nbformat": 4,
 "nbformat_minor": 1
}
