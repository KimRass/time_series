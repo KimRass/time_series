{
 "cells": [
  {
   "cell_type": "markdown",
   "metadata": {
    "toc": true
   },
   "source": [
    "<h1>Table of Contents<span class=\"tocSkip\"></span></h1>\n",
    "<div class=\"toc\"><ul class=\"toc-item\"></ul></div>"
   ]
  },
  {
   "cell_type": "code",
   "execution_count": 1,
   "metadata": {
    "ExecuteTime": {
     "end_time": "2022-01-21T15:29:14.452565Z",
     "start_time": "2022-01-21T15:29:12.200483Z"
    },
    "colab": {
     "base_uri": "https://localhost:8080/"
    },
    "executionInfo": {
     "elapsed": 4493,
     "status": "ok",
     "timestamp": 1637379602836,
     "user": {
      "displayName": "James Lee",
      "photoUrl": "https://lh3.googleusercontent.com/a/default-user=s64",
      "userId": "17665317456088603930"
     },
     "user_tz": -540
    },
    "id": "uPo7Uuzfbs9E",
    "outputId": "4a11cf7a-55f4-444e-9590-1fce3d0f56be"
   },
   "outputs": [],
   "source": [
    "import numpy as np\n",
    "import pmdarima as pm\n",
    "from pmdarima import model_selection\n",
    "from pmdarima.model_selection import SlidingWindowForecastCV\n",
    "from pmdarima.model_selection import cross_val_score"
   ]
  },
  {
   "cell_type": "code",
   "execution_count": 21,
   "metadata": {
    "ExecuteTime": {
     "end_time": "2022-01-20T14:31:10.488043Z",
     "start_time": "2022-01-20T14:31:08.934232Z"
    },
    "colab": {
     "base_uri": "https://localhost:8080/"
    },
    "executionInfo": {
     "elapsed": 4493,
     "status": "ok",
     "timestamp": 1637379602836,
     "user": {
      "displayName": "James Lee",
      "photoUrl": "https://lh3.googleusercontent.com/a/default-user=s64",
      "userId": "17665317456088603930"
     },
     "user_tz": -540
    },
    "id": "uPo7Uuzfbs9E",
    "outputId": "4a11cf7a-55f4-444e-9590-1fce3d0f56be"
   },
   "outputs": [
    {
     "name": "stdout",
     "output_type": "stream",
     "text": [
      "[CV] fold=0 ..........................................................\n",
      "[CV] fold=1 ..........................................................\n",
      "[CV] fold=2 ..........................................................\n",
      "[CV] fold=0 ..........................................................\n",
      "[CV] fold=1 ..........................................................\n",
      "[CV] fold=2 ..........................................................\n",
      "scores_model1: [23.92897667 22.28966615  3.74840893]\n",
      "scores_model2: [ 1.52039644 15.41342726  5.57222576]\n"
     ]
    }
   ],
   "source": [
    "data = pm.datasets.load_wineind()\n",
    "tr, te = train_test_split(data, train_size=165)\n",
    "\n",
    "model1 = pm.ARIMA(order=(2, 1, 1))\n",
    "model2 = pm.ARIMA(order=(1, 1, 2), seasonal_order=(0, 1, 1, 12), suppress_warnings=True)\n",
    "\n",
    "cv = SlidingWindowForecastCV(h=1 step=24, window_size=100)\n",
    "\n",
    "scores_model1 = cross_val_score(estimator=model1, y=tr, scoring=\"smape\", cv=cv, verbose=2)\n",
    "scores_model2 = cross_val_score(estimator=model2, y=tr, scoring=\"smape\", cv=cv, verbose=2)\n",
    "\n",
    "print(f\"scores_model1: {scores_model1}\")\n",
    "print(f\"scores_model2: {scores_model2}\")"
   ]
  }
 ],
 "metadata": {
  "colab": {
   "authorship_tag": "ABX9TyPVCMunbxHnrCpWDtxZJOWo",
   "name": "ARIMA-CROSSVALIDATION.ipynb",
   "provenance": []
  },
  "hide_input": false,
  "kernelspec": {
   "display_name": "Python 3",
   "language": "python",
   "name": "python3"
  },
  "language_info": {
   "codemirror_mode": {
    "name": "ipython",
    "version": 3
   },
   "file_extension": ".py",
   "mimetype": "text/x-python",
   "name": "python",
   "nbconvert_exporter": "python",
   "pygments_lexer": "ipython3",
   "version": "3.8.5"
  },
  "toc": {
   "base_numbering": 1,
   "nav_menu": {},
   "number_sections": true,
   "sideBar": true,
   "skip_h1_title": false,
   "title_cell": "Table of Contents",
   "title_sidebar": "Contents",
   "toc_cell": true,
   "toc_position": {},
   "toc_section_display": true,
   "toc_window_display": false
  },
  "varInspector": {
   "cols": {
    "lenName": 16,
    "lenType": 16,
    "lenVar": 40
   },
   "kernels_config": {
    "python": {
     "delete_cmd_postfix": "",
     "delete_cmd_prefix": "del ",
     "library": "var_list.py",
     "varRefreshCmd": "print(var_dic_list())"
    },
    "r": {
     "delete_cmd_postfix": ") ",
     "delete_cmd_prefix": "rm(",
     "library": "var_list.r",
     "varRefreshCmd": "cat(var_dic_list()) "
    }
   },
   "types_to_exclude": [
    "module",
    "function",
    "builtin_function_or_method",
    "instance",
    "_Feature"
   ],
   "window_display": false
  }
 },
 "nbformat": 4,
 "nbformat_minor": 1
}
